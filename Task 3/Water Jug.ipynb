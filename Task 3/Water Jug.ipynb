{
 "cells": [
  {
   "cell_type": "code",
   "execution_count": 2,
   "id": "c6d6b79e-7df6-4045-ba19-ac14397e1794",
   "metadata": {},
   "outputs": [
    {
     "name": "stdout",
     "output_type": "stream",
     "text": [
      "Solution found: [(0, 0), (0, 3), (3, 0), (3, 3), (4, 2)]\n"
     ]
    },
    {
     "data": {
      "text/plain": [
       "[(0, 0), (0, 3), (3, 0), (3, 3), (4, 2)]"
      ]
     },
     "execution_count": 2,
     "metadata": {},
     "output_type": "execute_result"
    }
   ],
   "source": [
    "from collections import deque\n",
    "\n",
    "def water_jug_dfs(capacity1, capacity2, target):\n",
    "    stack = [(0, 0)]\n",
    "    visited = set()\n",
    "    path = []\n",
    "\n",
    "    while stack:\n",
    "        current = stack.pop()\n",
    "        x, y = current\n",
    "\n",
    "        if current in visited:\n",
    "            continue\n",
    "\n",
    "        visited.add(current)\n",
    "        path.append(current)\n",
    "\n",
    "        if x == target or y == target:\n",
    "            print(\"Solution found:\", path)\n",
    "            return path\n",
    "\n",
    "        next_states = [\n",
    "            (capacity1, y),  \n",
    "            (x, capacity2),  \n",
    "            (0, y),        \n",
    "            (x, 0),          \n",
    "            # Pour Jug1 → Jug2\n",
    "            (x - min(x, capacity2 - y), y + min(x, capacity2 - y)),\n",
    "            # Pour Jug2 → Jug1\n",
    "            (x + min(y, capacity1 - x), y - min(y, capacity1 - x))\n",
    "        ]\n",
    "\n",
    "        for state in next_states:\n",
    "            if state not in visited:\n",
    "                stack.append(state)\n",
    "\n",
    "    print(\"No solution found\")\n",
    "    return None\n",
    "\n",
    "capacity1 = 4\n",
    "capacity2 = 3\n",
    "target = 2\n",
    "water_jug_dfs(capacity1, capacity2, target)\n"
   ]
  },
  {
   "cell_type": "code",
   "execution_count": null,
   "id": "f5e9d09b-9084-4e4a-a768-6728c3c25088",
   "metadata": {},
   "outputs": [],
   "source": []
  }
 ],
 "metadata": {
  "kernelspec": {
   "display_name": "Python 3 (ipykernel)",
   "language": "python",
   "name": "python3"
  },
  "language_info": {
   "codemirror_mode": {
    "name": "ipython",
    "version": 3
   },
   "file_extension": ".py",
   "mimetype": "text/x-python",
   "name": "python",
   "nbconvert_exporter": "python",
   "pygments_lexer": "ipython3",
   "version": "3.12.1"
  }
 },
 "nbformat": 4,
 "nbformat_minor": 5
}
