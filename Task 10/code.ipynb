{
 "cells": [
  {
   "cell_type": "code",
   "execution_count": 1,
   "metadata": {},
   "outputs": [],
   "source": [
    "import nltk\n",
    "from nltk.chat.util import Chat, reflections\n",
    "from nltk.sentiment import SentimentIntensityAnalyzer"
   ]
  },
  {
   "cell_type": "code",
   "execution_count": 3,
   "metadata": {},
   "outputs": [
    {
     "name": "stderr",
     "output_type": "stream",
     "text": [
      "[nltk_data] Downloading package punkt to\n",
      "[nltk_data]     C:\\Users\\user\\AppData\\Roaming\\nltk_data...\n",
      "[nltk_data]   Package punkt is already up-to-date!\n",
      "[nltk_data] Downloading package vader_lexicon to\n",
      "[nltk_data]     C:\\Users\\user\\AppData\\Roaming\\nltk_data...\n"
     ]
    },
    {
     "data": {
      "text/plain": [
       "True"
      ]
     },
     "execution_count": 3,
     "metadata": {},
     "output_type": "execute_result"
    }
   ],
   "source": [
    "nltk.download('punkt')\n",
    "nltk.download('vader_lexicon')"
   ]
  },
  {
   "cell_type": "code",
   "execution_count": 4,
   "metadata": {},
   "outputs": [],
   "source": [
    "\n",
    "\n",
    "pairs = [\n",
    "    [r\"(?i).*hello.*|.*hi.*|.*hey.*\",\n",
    "     [\"Hello! Welcome to our Hotel. How can I assist you today?\",\n",
    "      \"Hi there! Looking for room information or bookings?\",\n",
    "      \"Hey! How may I help you with your hotel stay?\"]],\n",
    "\n",
    "    [r\"(?i).*room types.*|.*available rooms.*|.*types of rooms.*\",\n",
    "     [\"We offer a variety of rooms including Deluxe Rooms, Executive Suites, and Standard Rooms.\",\n",
    "      \"Our hotel provides different options like single, double, and suite rooms. What type are you interested in?\",\n",
    "      \"We have deluxe, executive, and economy rooms available.\"]],\n",
    "\n",
    "    [r\"(?i).*room rates.*|.*room prices.*|.*cost per night.*\",\n",
    "     [\"Room rates vary depending on the type and season. Please visit our website or contact reception for exact pricing.\",\n",
    "      \"Our rooms start at very affordable rates. For details, check our website or call us directly.\",\n",
    "      \"Prices differ based on room type. Contact our reservation desk for current offers and discounts.\"]],\n",
    "\n",
    "    [r\"(?i).*amenities.*|.*facilities.*|.*services offered.*\",\n",
    "     [\"We offer amenities like free Wi-Fi, swimming pool, gym, spa, and complimentary breakfast.\",\n",
    "      \"Our hotel features include a fitness center, conference rooms, restaurant, and 24/7 room service.\",\n",
    "      \"Enjoy our luxury amenities such as spa treatments, fine dining, and shuttle services.\"]],\n",
    "\n",
    "    [r\"(?i).*check-in time.*|.*check-out time.*|.*timing.*\",\n",
    "     [\"Our standard check-in time is 2 PM, and check-out time is 12 PM.\",\n",
    "      \"You can check in after 2 PM. Check-out must be done by 12 noon.\",\n",
    "      \"Check-in starts at 2:00 PM and check-out is until 12:00 PM the next day.\"]],\n",
    "\n",
    "    [r\"(?i).*restaurant.*|.*food services.*|.*dining options.*\",\n",
    "     [\"Yes, we have an in-house restaurant offering a variety of cuisines including local and international dishes.\",\n",
    "      \"Our hotel restaurant is open from 7 AM to 11 PM daily. Room service is also available 24/7.\",\n",
    "      \"We offer multiple dining options including buffet breakfast, à la carte lunch, and dinner.\"]],\n",
    "\n",
    "    [r\"(?i).*booking process.*|.*how to book.*|.*make a reservation.*\",\n",
    "     [\"You can book a room through our official website, by calling our reservation number, or via popular hotel booking platforms.\",\n",
    "      \"To book a room, visit our website and fill out the reservation form or call our booking office.\",\n",
    "      \"Bookings can be made online, by email, or directly through our front desk.\"]],\n",
    "\n",
    "    [r\"(?i).*cancellation policy.*|.*refund policy.*|.*cancellation charges.*\",\n",
    "     [\"Cancellations made 24 hours prior to arrival are free of charge. Late cancellations may incur a fee.\",\n",
    "      \"You can cancel up to 24 hours before your booking date without any penalty.\",\n",
    "      \"For cancellations and refund details, please refer to our cancellation policy on the website.\"]],\n",
    "\n",
    "    [r\"(?i).*location.*|.*hotel address.*|.*where is the hotel.*\",\n",
    "     [\"We are located in the heart of the city, close to major tourist attractions and business centers.\",\n",
    "      \"Our hotel is situated downtown, just 15 minutes from the airport.\",\n",
    "      \"You can find us at [Hotel Address]. Please visit our website for directions.\"]],\n",
    "\n",
    "    [r\"(?i).*parking.*|.*car parking.*|.*vehicle parking.*\",\n",
    "     [\"Yes, we offer free parking for our guests with 24/7 security.\",\n",
    "      \"Secure parking is available for all guests, including valet service.\",\n",
    "      \"Our hotel provides both outdoor and indoor parking spaces for guest vehicles.\"]],\n",
    "\n",
    "    [r\"(?i).*bye.*|.*goodbye.*|.*see you later.*\",\n",
    "     [\"Goodbye! Have a wonderful stay with us.\",\n",
    "      \"See you later! Feel free to contact us anytime for help.\",\n",
    "      \"Alright, take care! We look forward to welcoming you soon.\"]],\n",
    "]\n",
    "\n",
    "chatbot = Chat(pairs)\n",
    "sia = SentimentIntensityAnalyzer()\n"
   ]
  },
  {
   "cell_type": "code",
   "execution_count": 5,
   "metadata": {},
   "outputs": [],
   "source": [
    "def analyze_sentiment(text):\n",
    "  sentiment_score = sia.polarity_scores(text)\n",
    "  if sentiment_score['compound'] >= 0.05:\n",
    "    return \"Positive Sentence\"\n",
    "  elif sentiment_score['compound'] <= -0.05:\n",
    "    return \"Negative Sentence\"\n",
    "  else:\n",
    "    return \"Neutral Sentence\""
   ]
  },
  {
   "cell_type": "code",
   "execution_count": 17,
   "metadata": {},
   "outputs": [],
   "source": [
    "class SimpleChatBot:\n",
    "    def respond(self, user_input):\n",
    "        if \"hello\" in user_input:\n",
    "            return \"Hi there! How can I help you?\"\n",
    "        elif \"bye\" in user_input:\n",
    "            return \"Goodbye!\"\n",
    "        else:\n",
    "            return None\n",
    "\n",
    "def analyze_sentiment(text):\n",
    "    # Simple fake analysis\n",
    "    if \"happy\" in text.lower():\n",
    "        return \"Positive 😊\"\n",
    "    elif \"sad\" in text.lower():\n",
    "        return \"Negative 😢\"\n",
    "    else:\n",
    "        return \"Neutral 😐\"\n",
    "\n",
    "chatbot = SimpleChatBot()\n"
   ]
  },
  {
   "cell_type": "code",
   "execution_count": 18,
   "metadata": {},
   "outputs": [
    {
     "data": {
      "text/plain": [
       "<__main__.SimpleChatBot at 0x25497cd28d0>"
      ]
     },
     "execution_count": 18,
     "metadata": {},
     "output_type": "execute_result"
    }
   ],
   "source": [
    "chatbot"
   ]
  },
  {
   "cell_type": "code",
   "execution_count": null,
   "metadata": {},
   "outputs": [],
   "source": []
  }
 ],
 "metadata": {
  "kernelspec": {
   "display_name": "Python 3",
   "language": "python",
   "name": "python3"
  },
  "language_info": {
   "codemirror_mode": {
    "name": "ipython",
    "version": 3
   },
   "file_extension": ".py",
   "mimetype": "text/x-python",
   "name": "python",
   "nbconvert_exporter": "python",
   "pygments_lexer": "ipython3",
   "version": "3.12.3"
  }
 },
 "nbformat": 4,
 "nbformat_minor": 2
}
