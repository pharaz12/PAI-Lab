{
 "cells": [
  {
   "cell_type": "code",
   "execution_count": 3,
   "id": "f43a258c-4f70-4fc2-83c3-954471c970ff",
   "metadata": {},
   "outputs": [
    {
     "name": "stdout",
     "output_type": "stream",
     "text": [
      "Number of solutions for 4-Queens: 2\n",
      ".Q..\n",
      "...Q\n",
      "Q...\n",
      "..Q.\n",
      "\n",
      "..Q.\n",
      "Q...\n",
      "...Q\n",
      ".Q..\n",
      "\n"
     ]
    }
   ],
   "source": [
    "def solve_n_queens(n):\n",
    "    def is_safe(board, row, col):\n",
    "        for i in range(row):\n",
    "            if board[i] == col or abs(board[i] - col) == abs(i - row):\n",
    "                return False\n",
    "        return True\n",
    "\n",
    "    def solve(board, row, solutions):\n",
    "        if row == n:\n",
    "            solutions.append(board[:])\n",
    "            return\n",
    "\n",
    "        for col in range(n):\n",
    "            if is_safe(board, row, col):\n",
    "                board[row] = col \n",
    "                solve(board, row + 1, solutions)  \n",
    "                board[row] = -1 \n",
    "\n",
    "    solutions = []\n",
    "    board = [-1] * n  \n",
    "    solve(board, 0, solutions)\n",
    "    return solutions\n",
    "\n",
    "def print_solutions(solutions):\n",
    "    for solution in solutions:\n",
    "        for row in solution:\n",
    "            print(\".\" * row + \"Q\" + \".\" * (len(solution) - row - 1))\n",
    "        print()\n",
    "\n",
    "n = 4\n",
    "solutions = solve_n_queens(n)\n",
    "print(f\"Number of solutions for {n}-Queens: {len(solutions)}\")\n",
    "print_solutions(solutions)\n"
   ]
  },
  {
   "cell_type": "code",
   "execution_count": null,
   "id": "6918348b-5ba7-403a-b26b-f1e112ddb752",
   "metadata": {},
   "outputs": [],
   "source": []
  }
 ],
 "metadata": {
  "kernelspec": {
   "display_name": "Python 3 (ipykernel)",
   "language": "python",
   "name": "python3"
  },
  "language_info": {
   "codemirror_mode": {
    "name": "ipython",
    "version": 3
   },
   "file_extension": ".py",
   "mimetype": "text/x-python",
   "name": "python",
   "nbconvert_exporter": "python",
   "pygments_lexer": "ipython3",
   "version": "3.12.1"
  }
 },
 "nbformat": 4,
 "nbformat_minor": 5
}
