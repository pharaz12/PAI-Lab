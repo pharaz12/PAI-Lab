{
 "cells": [
  {
   "cell_type": "code",
   "execution_count": null,
   "metadata": {},
   "outputs": [
    {
     "ename": "ModuleNotFoundError",
     "evalue": "No module named 'mediapipe'",
     "output_type": "error",
     "traceback": [
      "\u001b[1;31m---------------------------------------------------------------------------\u001b[0m",
      "\u001b[1;31mModuleNotFoundError\u001b[0m                       Traceback (most recent call last)",
      "Cell \u001b[1;32mIn[1], line 2\u001b[0m\n\u001b[0;32m      1\u001b[0m \u001b[38;5;28;01mimport\u001b[39;00m \u001b[38;5;21;01mcv2\u001b[39;00m\n\u001b[1;32m----> 2\u001b[0m \u001b[38;5;28;01mimport\u001b[39;00m \u001b[38;5;21;01mmediapipe\u001b[39;00m \u001b[38;5;28;01mas\u001b[39;00m \u001b[38;5;21;01mmp\u001b[39;00m\n\u001b[0;32m      3\u001b[0m \u001b[38;5;28;01mimport\u001b[39;00m \u001b[38;5;21;01mtorch\u001b[39;00m\n\u001b[0;32m      4\u001b[0m \u001b[38;5;28;01mimport\u001b[39;00m \u001b[38;5;21;01mnumpy\u001b[39;00m \u001b[38;5;28;01mas\u001b[39;00m \u001b[38;5;21;01mnp\u001b[39;00m\n",
      "\u001b[1;31mModuleNotFoundError\u001b[0m: No module named 'mediapipe'"
     ]
    }
   ],
   "source": [
    "import cv2\n",
    "import mediapipe as mp\n",
    "import torch\n",
    "import numpy as np\n",
    "from ultralytics import YOLO\n",
    "\n",
    "# Initialize MediaPipe Face Mesh\n",
    "mp_face_mesh = mp.solutions.face_mesh\n",
    "face_mesh_detector = mp_face_mesh.FaceMesh()\n",
    "\n",
    "# Load YOLOv8 model\n",
    "model_path = \"yolov8n.pt\"  # Ensure you have the trained model\n",
    "face_detection_model = YOLO(model_path)\n",
    "\n",
    "# Open webcam\n",
    "webcam = cv2.VideoCapture(0)\n",
    "\n",
    "while True:\n",
    "    is_frame_captured, frame = webcam.read()\n",
    "    if not is_frame_captured:\n",
    "        break\n",
    "    \n",
    "    # YOLOv8 face detection\n",
    "    detection_results = face_detection_model(frame)\n",
    "    detected_faces = detection_results[0].boxes.xyxy.cpu().numpy()\n",
    "    \n",
    "    for face in detected_faces:\n",
    "        x_min, y_min, x_max, y_max = map(int, face)\n",
    "        face_region = frame[y_min:y_max, x_min:x_max]\n",
    "        \n",
    "        # Convert face region to RGB for MediaPipe processing\n",
    "        face_region_rgb = cv2.cvtColor(face_region, cv2.COLOR_BGR2RGB)\n",
    "        face_mesh_results = face_mesh_detector.process(face_region_rgb)\n",
    "        \n",
    "        if face_mesh_results.multi_face_landmarks:\n",
    "            for face_landmarks in face_mesh_results.multi_face_landmarks:\n",
    "                for landmark in face_landmarks.landmark:\n",
    "                    face_height, face_width, _ = face_region.shape\n",
    "                    landmark_x = int(landmark.x * face_width) + x_min\n",
    "                    landmark_y = int(landmark.y * face_height) + y_min\n",
    "                    cv2.circle(frame, (landmark_x, landmark_y), 1, (0, 255, 0), -1)\n",
    "        \n",
    "        cv2.rectangle(frame, (x_min, y_min), (x_max, y_max), (255, 0, 0), 2)\n",
    "    \n",
    "    # Display output\n",
    "    cv2.imshow(\"Face Profiling\", frame)\n",
    "    \n",
    "    if cv2.waitKey(1) & 0xFF == ord('q'):\n",
    "        break\n",
    "\n",
    "webcam.release()\n",
    "cv2.destroyAllWindows()"
   ]
  },
  {
   "cell_type": "code",
   "execution_count": null,
   "metadata": {},
   "outputs": [],
   "source": []
  }
 ],
 "metadata": {
  "kernelspec": {
   "display_name": "Python 3 (ipykernel)",
   "language": "python",
   "name": "python3"
  },
  "language_info": {
   "codemirror_mode": {
    "name": "ipython",
    "version": 3
   },
   "file_extension": ".py",
   "mimetype": "text/x-python",
   "name": "python",
   "nbconvert_exporter": "python",
   "pygments_lexer": "ipython3",
   "version": "3.12.1"
  }
 },
 "nbformat": 4,
 "nbformat_minor": 4
}
